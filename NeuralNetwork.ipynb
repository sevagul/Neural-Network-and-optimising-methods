{
 "cells": [
  {
   "cell_type": "code",
   "execution_count": 1,
   "metadata": {},
   "outputs": [],
   "source": [
    "import numpy as np\n",
    "from numpy.random import rand\n",
    "from NeuralUtils import * # sigmoid, sigmidDerivative, checkThetaAndX, \n",
    "                        # gradient_descent,"
   ]
  },
  {
   "cell_type": "code",
   "execution_count": 2,
   "metadata": {},
   "outputs": [],
   "source": [
    "#import data\n",
    "file_with_data = \"iris.csv\"\n",
    "labels = [\"Setosa\",\"Versicolor\",\"Virginica\"]\n",
    "X, Y = read_data(file_with_data, labels)\n",
    "\n",
    "#setting most important variables\n",
    "m = X.shape[1] #number of examples\n",
    "num_of_features = X.shape[0]\n",
    "num_of_labels = len(labels)\n"
   ]
  },
  {
   "cell_type": "code",
   "execution_count": 20,
   "metadata": {},
   "outputs": [],
   "source": [
    "#setting architecture of the Network\n",
    "hidden_layer_sizes = [3, 3]\n",
    "Theta = gen_Theta(num_of_features, num_of_labels, hidden_layer_sizes)"
   ]
  },
  {
   "cell_type": "code",
   "execution_count": 21,
   "metadata": {},
   "outputs": [
    {
     "data": {
      "text/plain": [
       "150"
      ]
     },
     "execution_count": 21,
     "metadata": {},
     "output_type": "execute_result"
    }
   ],
   "source": [
    "Layers = forward_propagation(X, Theta)\n",
    "len(Layers)\n",
    "Layers[0].shape[1]"
   ]
  },
  {
   "cell_type": "code",
   "execution_count": 22,
   "metadata": {},
   "outputs": [
    {
     "data": {
      "text/plain": [
       "2.0789918502876192"
      ]
     },
     "execution_count": 22,
     "metadata": {},
     "output_type": "execute_result"
    }
   ],
   "source": [
    "J(X, Y, Theta)"
   ]
  },
  {
   "cell_type": "code",
   "execution_count": 25,
   "metadata": {},
   "outputs": [],
   "source": [
    "def back_propagation(Theta, Y, Layers):\n",
    "    m = Layers[0].shape[1]\n",
    "    delta = []\n",
    "    DELTA = []\n",
    "    for i in np.arange(len(Theta)):\n",
    "        delta.append(np.zeros((Theta[i].shape[0], m) ))\n",
    "    delta[len(Theta)-1] = Layers[-1] - Y\n",
    "    for i in np.arange(len(Theta)-2, -1, -1):\n",
    "        delta[i] = (delta[i+1].transpose() @ Theta[i+1].transpose()[1:]).transpose()\n",
    "    for i in np.arange(0, len(Theta)):\n",
    "        op1 = np.vstack([np.ones([1,m]), Layers[i]])\n",
    "        op2 = delta[i]\n",
    "        print(op1.shape, op2.shape)\n",
    "        DELTA.append((1/m) * op1 @ op2.transpose())\n",
    "    return DELTA\n",
    "    "
   ]
  },
  {
   "cell_type": "code",
   "execution_count": 30,
   "metadata": {},
   "outputs": [
    {
     "name": "stdout",
     "output_type": "stream",
     "text": [
      "(4, 150) (3, 150)\n",
      "(4, 150) (3, 150)\n",
      "(4, 150) (3, 150)\n",
      "[array([[-9.09044030e-06, -3.85245369e-06, -3.01655800e-06],\n",
      "       [-4.67025353e-05, -2.00918131e-05, -1.34135440e-05],\n",
      "       [-2.86796488e-05, -1.20337716e-05, -1.05134493e-05],\n",
      "       [-1.85347883e-05, -8.66427397e-06, -3.61412262e-07]]), array([[-0.00051399, -0.00146307,  0.00042378],\n",
      "       [-0.0002573 , -0.00072962,  0.00021142],\n",
      "       [-0.00025923, -0.00073753,  0.00021345],\n",
      "       [-0.00025731, -0.00073145,  0.00021189]]), array([[0.16628507, 0.16621807, 0.16682121],\n",
      "       [0.08325093, 0.0832181 , 0.08352022],\n",
      "       [0.08335491, 0.08332157, 0.08362394],\n",
      "       [0.08338135, 0.08334846, 0.08365119]])]\n"
     ]
    }
   ],
   "source": [
    "Theta_deriv = back_propagation(Theta, Y, Layers)\n",
    "print(Theta_deriv)"
   ]
  },
  {
   "cell_type": "code",
   "execution_count": null,
   "metadata": {},
   "outputs": [],
   "source": [
    "a = rand(3, 4)"
   ]
  },
  {
   "cell_type": "code",
   "execution_count": null,
   "metadata": {},
   "outputs": [],
   "source": [
    "a"
   ]
  },
  {
   "cell_type": "code",
   "execution_count": null,
   "metadata": {},
   "outputs": [],
   "source": [
    "a.transpose()[1:]"
   ]
  },
  {
   "cell_type": "code",
   "execution_count": null,
   "metadata": {},
   "outputs": [],
   "source": [
    "np.concatenate(a, np.ones((3)), axes=1)"
   ]
  },
  {
   "cell_type": "code",
   "execution_count": null,
   "metadata": {},
   "outputs": [],
   "source": []
  },
  {
   "cell_type": "code",
   "execution_count": null,
   "metadata": {},
   "outputs": [],
   "source": []
  },
  {
   "cell_type": "code",
   "execution_count": null,
   "metadata": {},
   "outputs": [],
   "source": []
  },
  {
   "cell_type": "code",
   "execution_count": null,
   "metadata": {},
   "outputs": [],
   "source": []
  },
  {
   "cell_type": "code",
   "execution_count": null,
   "metadata": {},
   "outputs": [],
   "source": []
  },
  {
   "cell_type": "code",
   "execution_count": null,
   "metadata": {},
   "outputs": [],
   "source": []
  },
  {
   "cell_type": "code",
   "execution_count": null,
   "metadata": {},
   "outputs": [],
   "source": []
  },
  {
   "cell_type": "code",
   "execution_count": null,
   "metadata": {},
   "outputs": [],
   "source": []
  }
 ],
 "metadata": {
  "kernelspec": {
   "display_name": "Python 3",
   "language": "python",
   "name": "python3"
  },
  "language_info": {
   "codemirror_mode": {
    "name": "ipython",
    "version": 3
   },
   "file_extension": ".py",
   "mimetype": "text/x-python",
   "name": "python",
   "nbconvert_exporter": "python",
   "pygments_lexer": "ipython3",
   "version": "3.7.6"
  }
 },
 "nbformat": 4,
 "nbformat_minor": 2
}
